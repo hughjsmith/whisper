{
  "cells": [
    {
      "cell_type": "markdown",
      "metadata": {
        "id": "view-in-github",
        "colab_type": "text"
      },
      "source": [
        "<a href=\"https://colab.research.google.com/github/hughjsmith/whisper/blob/project1/WhisperAI_usingTPU.ipynb\" target=\"_parent\"><img src=\"https://colab.research.google.com/assets/colab-badge.svg\" alt=\"Open In Colab\"/></a>"
      ]
    },
    {
      "cell_type": "markdown",
      "metadata": {
        "id": "KtwDn7w2NWK6"
      },
      "source": [
        "**This Notebook outlines the use of Whisper AI by OpenAI** for transcription purposes."
      ]
    },
    {
      "cell_type": "markdown",
      "metadata": {
        "id": "TTyHyySPNi-M"
      },
      "source": [
        "First, install all the dependences. Cohare, OpenAi, Tik Token and FFMpeg"
      ]
    },
    {
      "cell_type": "code",
      "execution_count": 1,
      "metadata": {
        "colab": {
          "base_uri": "https://localhost:8080/"
        },
        "id": "9N5iNU_A9EzK",
        "outputId": "e73350cc-b5f1-4dd1-a27c-986af7bddf43"
      },
      "outputs": [
        {
          "output_type": "stream",
          "name": "stdout",
          "text": [
            "Collecting cohere\n",
            "  Downloading cohere-4.40-py3-none-any.whl (51 kB)\n",
            "\u001b[2K     \u001b[90m━━━━━━━━━━━━━━━━━━━━━━━━━━━━━━━━━━━━━━━━\u001b[0m \u001b[32m51.7/51.7 kB\u001b[0m \u001b[31m951.6 kB/s\u001b[0m eta \u001b[36m0:00:00\u001b[0m\n",
            "\u001b[?25hRequirement already satisfied: aiohttp<4.0,>=3.0 in /usr/local/lib/python3.10/dist-packages (from cohere) (3.9.1)\n",
            "Collecting backoff<3.0,>=2.0 (from cohere)\n",
            "  Downloading backoff-2.2.1-py3-none-any.whl (15 kB)\n",
            "Collecting fastavro<2.0,>=1.8 (from cohere)\n",
            "  Downloading fastavro-1.9.2-cp310-cp310-manylinux_2_17_x86_64.manylinux2014_x86_64.whl (3.1 MB)\n",
            "\u001b[2K     \u001b[90m━━━━━━━━━━━━━━━━━━━━━━━━━━━━━━━━━━━━━━━━\u001b[0m \u001b[32m3.1/3.1 MB\u001b[0m \u001b[31m17.2 MB/s\u001b[0m eta \u001b[36m0:00:00\u001b[0m\n",
            "\u001b[?25hCollecting importlib_metadata<7.0,>=6.0 (from cohere)\n",
            "  Downloading importlib_metadata-6.11.0-py3-none-any.whl (23 kB)\n",
            "Requirement already satisfied: requests<3.0.0,>=2.25.0 in /usr/local/lib/python3.10/dist-packages (from cohere) (2.31.0)\n",
            "Requirement already satisfied: urllib3<3,>=1.26 in /usr/local/lib/python3.10/dist-packages (from cohere) (2.0.7)\n",
            "Requirement already satisfied: attrs>=17.3.0 in /usr/local/lib/python3.10/dist-packages (from aiohttp<4.0,>=3.0->cohere) (23.1.0)\n",
            "Requirement already satisfied: multidict<7.0,>=4.5 in /usr/local/lib/python3.10/dist-packages (from aiohttp<4.0,>=3.0->cohere) (6.0.4)\n",
            "Requirement already satisfied: yarl<2.0,>=1.0 in /usr/local/lib/python3.10/dist-packages (from aiohttp<4.0,>=3.0->cohere) (1.9.4)\n",
            "Requirement already satisfied: frozenlist>=1.1.1 in /usr/local/lib/python3.10/dist-packages (from aiohttp<4.0,>=3.0->cohere) (1.4.1)\n",
            "Requirement already satisfied: aiosignal>=1.1.2 in /usr/local/lib/python3.10/dist-packages (from aiohttp<4.0,>=3.0->cohere) (1.3.1)\n",
            "Requirement already satisfied: async-timeout<5.0,>=4.0 in /usr/local/lib/python3.10/dist-packages (from aiohttp<4.0,>=3.0->cohere) (4.0.3)\n",
            "Requirement already satisfied: zipp>=0.5 in /usr/local/lib/python3.10/dist-packages (from importlib_metadata<7.0,>=6.0->cohere) (3.17.0)\n",
            "Requirement already satisfied: charset-normalizer<4,>=2 in /usr/local/lib/python3.10/dist-packages (from requests<3.0.0,>=2.25.0->cohere) (3.3.2)\n",
            "Requirement already satisfied: idna<4,>=2.5 in /usr/local/lib/python3.10/dist-packages (from requests<3.0.0,>=2.25.0->cohere) (3.6)\n",
            "Requirement already satisfied: certifi>=2017.4.17 in /usr/local/lib/python3.10/dist-packages (from requests<3.0.0,>=2.25.0->cohere) (2023.11.17)\n",
            "Installing collected packages: importlib_metadata, fastavro, backoff, cohere\n",
            "  Attempting uninstall: importlib_metadata\n",
            "    Found existing installation: importlib-metadata 7.0.0\n",
            "    Uninstalling importlib-metadata-7.0.0:\n",
            "      Successfully uninstalled importlib-metadata-7.0.0\n",
            "\u001b[31mERROR: pip's dependency resolver does not currently take into account all the packages that are installed. This behaviour is the source of the following dependency conflicts.\n",
            "llmx 0.0.15a0 requires openai, which is not installed.\n",
            "llmx 0.0.15a0 requires tiktoken, which is not installed.\u001b[0m\u001b[31m\n",
            "\u001b[0mSuccessfully installed backoff-2.2.1 cohere-4.40 fastavro-1.9.2 importlib_metadata-6.11.0\n"
          ]
        }
      ],
      "source": [
        "pip install cohere"
      ]
    },
    {
      "cell_type": "code",
      "execution_count": 2,
      "metadata": {
        "colab": {
          "base_uri": "https://localhost:8080/"
        },
        "id": "uNXrLOm5bzRN",
        "outputId": "dda0b5a5-b559-47b3-c2b0-7a5984ebc145"
      },
      "outputs": [
        {
          "output_type": "stream",
          "name": "stdout",
          "text": [
            "Collecting openai\n",
            "  Downloading openai-1.6.1-py3-none-any.whl (225 kB)\n",
            "\u001b[2K     \u001b[90m━━━━━━━━━━━━━━━━━━━━━━━━━━━━━━━━━━━━━━━━\u001b[0m \u001b[32m225.4/225.4 kB\u001b[0m \u001b[31m2.1 MB/s\u001b[0m eta \u001b[36m0:00:00\u001b[0m\n",
            "\u001b[?25hRequirement already satisfied: anyio<5,>=3.5.0 in /usr/local/lib/python3.10/dist-packages (from openai) (3.7.1)\n",
            "Requirement already satisfied: distro<2,>=1.7.0 in /usr/lib/python3/dist-packages (from openai) (1.7.0)\n",
            "Collecting httpx<1,>=0.23.0 (from openai)\n",
            "  Downloading httpx-0.26.0-py3-none-any.whl (75 kB)\n",
            "\u001b[2K     \u001b[90m━━━━━━━━━━━━━━━━━━━━━━━━━━━━━━━━━━━━━━━━\u001b[0m \u001b[32m75.9/75.9 kB\u001b[0m \u001b[31m8.4 MB/s\u001b[0m eta \u001b[36m0:00:00\u001b[0m\n",
            "\u001b[?25hRequirement already satisfied: pydantic<3,>=1.9.0 in /usr/local/lib/python3.10/dist-packages (from openai) (1.10.13)\n",
            "Requirement already satisfied: sniffio in /usr/local/lib/python3.10/dist-packages (from openai) (1.3.0)\n",
            "Requirement already satisfied: tqdm>4 in /usr/local/lib/python3.10/dist-packages (from openai) (4.66.1)\n",
            "Collecting typing-extensions<5,>=4.7 (from openai)\n",
            "  Downloading typing_extensions-4.9.0-py3-none-any.whl (32 kB)\n",
            "Requirement already satisfied: idna>=2.8 in /usr/local/lib/python3.10/dist-packages (from anyio<5,>=3.5.0->openai) (3.6)\n",
            "Requirement already satisfied: exceptiongroup in /usr/local/lib/python3.10/dist-packages (from anyio<5,>=3.5.0->openai) (1.2.0)\n",
            "Requirement already satisfied: certifi in /usr/local/lib/python3.10/dist-packages (from httpx<1,>=0.23.0->openai) (2023.11.17)\n",
            "Collecting httpcore==1.* (from httpx<1,>=0.23.0->openai)\n",
            "  Downloading httpcore-1.0.2-py3-none-any.whl (76 kB)\n",
            "\u001b[2K     \u001b[90m━━━━━━━━━━━━━━━━━━━━━━━━━━━━━━━━━━━━━━━━\u001b[0m \u001b[32m76.9/76.9 kB\u001b[0m \u001b[31m9.9 MB/s\u001b[0m eta \u001b[36m0:00:00\u001b[0m\n",
            "\u001b[?25hCollecting h11<0.15,>=0.13 (from httpcore==1.*->httpx<1,>=0.23.0->openai)\n",
            "  Downloading h11-0.14.0-py3-none-any.whl (58 kB)\n",
            "\u001b[2K     \u001b[90m━━━━━━━━━━━━━━━━━━━━━━━━━━━━━━━━━━━━━━━━\u001b[0m \u001b[32m58.3/58.3 kB\u001b[0m \u001b[31m7.7 MB/s\u001b[0m eta \u001b[36m0:00:00\u001b[0m\n",
            "\u001b[?25hInstalling collected packages: typing-extensions, h11, httpcore, httpx, openai\n",
            "  Attempting uninstall: typing-extensions\n",
            "    Found existing installation: typing_extensions 4.5.0\n",
            "    Uninstalling typing_extensions-4.5.0:\n",
            "      Successfully uninstalled typing_extensions-4.5.0\n",
            "\u001b[31mERROR: pip's dependency resolver does not currently take into account all the packages that are installed. This behaviour is the source of the following dependency conflicts.\n",
            "llmx 0.0.15a0 requires tiktoken, which is not installed.\n",
            "orbax-checkpoint 0.4.4 requires jax>=0.4.9, but you have jax 0.3.25 which is incompatible.\n",
            "tensorflow-probability 0.22.0 requires typing-extensions<4.6.0, but you have typing-extensions 4.9.0 which is incompatible.\u001b[0m\u001b[31m\n",
            "\u001b[0mSuccessfully installed h11-0.14.0 httpcore-1.0.2 httpx-0.26.0 openai-1.6.1 typing-extensions-4.9.0\n"
          ]
        }
      ],
      "source": [
        "pip install openai"
      ]
    },
    {
      "cell_type": "markdown",
      "metadata": {
        "id": "eXtb5sPmOSIi"
      },
      "source": [
        "Tiktoken acts as a fast and efficient tokenizer specifically designed to prepare text for processing by OpenAI's language models."
      ]
    },
    {
      "cell_type": "code",
      "execution_count": 3,
      "metadata": {
        "colab": {
          "base_uri": "https://localhost:8080/"
        },
        "id": "wSZUfNLCcM65",
        "outputId": "6718e024-c570-4824-b922-f2b9af5fde69"
      },
      "outputs": [
        {
          "output_type": "stream",
          "name": "stdout",
          "text": [
            "Collecting tiktoken\n",
            "  Downloading tiktoken-0.5.2-cp310-cp310-manylinux_2_17_x86_64.manylinux2014_x86_64.whl (2.0 MB)\n",
            "\u001b[2K     \u001b[90m━━━━━━━━━━━━━━━━━━━━━━━━━━━━━━━━━━━━━━━━\u001b[0m \u001b[32m2.0/2.0 MB\u001b[0m \u001b[31m8.9 MB/s\u001b[0m eta \u001b[36m0:00:00\u001b[0m\n",
            "\u001b[?25hRequirement already satisfied: regex>=2022.1.18 in /usr/local/lib/python3.10/dist-packages (from tiktoken) (2023.6.3)\n",
            "Requirement already satisfied: requests>=2.26.0 in /usr/local/lib/python3.10/dist-packages (from tiktoken) (2.31.0)\n",
            "Requirement already satisfied: charset-normalizer<4,>=2 in /usr/local/lib/python3.10/dist-packages (from requests>=2.26.0->tiktoken) (3.3.2)\n",
            "Requirement already satisfied: idna<4,>=2.5 in /usr/local/lib/python3.10/dist-packages (from requests>=2.26.0->tiktoken) (3.6)\n",
            "Requirement already satisfied: urllib3<3,>=1.21.1 in /usr/local/lib/python3.10/dist-packages (from requests>=2.26.0->tiktoken) (2.0.7)\n",
            "Requirement already satisfied: certifi>=2017.4.17 in /usr/local/lib/python3.10/dist-packages (from requests>=2.26.0->tiktoken) (2023.11.17)\n",
            "Installing collected packages: tiktoken\n",
            "Successfully installed tiktoken-0.5.2\n"
          ]
        }
      ],
      "source": [
        "pip install tiktoken"
      ]
    },
    {
      "cell_type": "markdown",
      "metadata": {
        "id": "OUO__721O210"
      },
      "source": [
        "Now, install Whisper from Github using this URL"
      ]
    },
    {
      "cell_type": "code",
      "execution_count": 4,
      "metadata": {
        "colab": {
          "base_uri": "https://localhost:8080/"
        },
        "id": "e2H3r0W3mxiq",
        "outputId": "492ee619-aadc-4337-88cd-1343f8a49f20"
      },
      "outputs": [
        {
          "output_type": "stream",
          "name": "stdout",
          "text": [
            "Collecting git+https://github.com/openai/whisper.git\n",
            "  Cloning https://github.com/openai/whisper.git to /tmp/pip-req-build-z_jfjk4y\n",
            "  Running command git clone --filter=blob:none --quiet https://github.com/openai/whisper.git /tmp/pip-req-build-z_jfjk4y\n",
            "  Resolved https://github.com/openai/whisper.git to commit ba3f3cd54b0e5b8ce1ab3de13e32122d0d5f98ab\n",
            "  Installing build dependencies ... \u001b[?25l\u001b[?25hdone\n",
            "  Getting requirements to build wheel ... \u001b[?25l\u001b[?25hdone\n",
            "  Preparing metadata (pyproject.toml) ... \u001b[?25l\u001b[?25hdone\n",
            "Requirement already satisfied: numba in /usr/local/lib/python3.10/dist-packages (from openai-whisper==20231117) (0.58.1)\n",
            "Requirement already satisfied: numpy in /usr/local/lib/python3.10/dist-packages (from openai-whisper==20231117) (1.23.5)\n",
            "Requirement already satisfied: torch in /usr/local/lib/python3.10/dist-packages (from openai-whisper==20231117) (2.1.0+cu121)\n",
            "Requirement already satisfied: tqdm in /usr/local/lib/python3.10/dist-packages (from openai-whisper==20231117) (4.66.1)\n",
            "Requirement already satisfied: more-itertools in /usr/local/lib/python3.10/dist-packages (from openai-whisper==20231117) (10.1.0)\n",
            "Requirement already satisfied: tiktoken in /usr/local/lib/python3.10/dist-packages (from openai-whisper==20231117) (0.5.2)\n",
            "Requirement already satisfied: triton<3,>=2.0.0 in /usr/local/lib/python3.10/dist-packages (from openai-whisper==20231117) (2.1.0)\n",
            "Requirement already satisfied: filelock in /usr/local/lib/python3.10/dist-packages (from triton<3,>=2.0.0->openai-whisper==20231117) (3.13.1)\n",
            "Requirement already satisfied: llvmlite<0.42,>=0.41.0dev0 in /usr/local/lib/python3.10/dist-packages (from numba->openai-whisper==20231117) (0.41.1)\n",
            "Requirement already satisfied: regex>=2022.1.18 in /usr/local/lib/python3.10/dist-packages (from tiktoken->openai-whisper==20231117) (2023.6.3)\n",
            "Requirement already satisfied: requests>=2.26.0 in /usr/local/lib/python3.10/dist-packages (from tiktoken->openai-whisper==20231117) (2.31.0)\n",
            "Requirement already satisfied: typing-extensions in /usr/local/lib/python3.10/dist-packages (from torch->openai-whisper==20231117) (4.9.0)\n",
            "Requirement already satisfied: sympy in /usr/local/lib/python3.10/dist-packages (from torch->openai-whisper==20231117) (1.12)\n",
            "Requirement already satisfied: networkx in /usr/local/lib/python3.10/dist-packages (from torch->openai-whisper==20231117) (3.2.1)\n",
            "Requirement already satisfied: jinja2 in /usr/local/lib/python3.10/dist-packages (from torch->openai-whisper==20231117) (3.1.2)\n",
            "Requirement already satisfied: fsspec in /usr/local/lib/python3.10/dist-packages (from torch->openai-whisper==20231117) (2023.6.0)\n",
            "Requirement already satisfied: charset-normalizer<4,>=2 in /usr/local/lib/python3.10/dist-packages (from requests>=2.26.0->tiktoken->openai-whisper==20231117) (3.3.2)\n",
            "Requirement already satisfied: idna<4,>=2.5 in /usr/local/lib/python3.10/dist-packages (from requests>=2.26.0->tiktoken->openai-whisper==20231117) (3.6)\n",
            "Requirement already satisfied: urllib3<3,>=1.21.1 in /usr/local/lib/python3.10/dist-packages (from requests>=2.26.0->tiktoken->openai-whisper==20231117) (2.0.7)\n",
            "Requirement already satisfied: certifi>=2017.4.17 in /usr/local/lib/python3.10/dist-packages (from requests>=2.26.0->tiktoken->openai-whisper==20231117) (2023.11.17)\n",
            "Requirement already satisfied: MarkupSafe>=2.0 in /usr/local/lib/python3.10/dist-packages (from jinja2->torch->openai-whisper==20231117) (2.1.3)\n",
            "Requirement already satisfied: mpmath>=0.19 in /usr/local/lib/python3.10/dist-packages (from sympy->torch->openai-whisper==20231117) (1.3.0)\n",
            "Building wheels for collected packages: openai-whisper\n",
            "  Building wheel for openai-whisper (pyproject.toml) ... \u001b[?25l\u001b[?25hdone\n",
            "  Created wheel for openai-whisper: filename=openai_whisper-20231117-py3-none-any.whl size=802825 sha256=3cfdd428d701595c4ed8b5684bb5fc3f82364c559a8a391c390ff29180c41bc0\n",
            "  Stored in directory: /tmp/pip-ephem-wheel-cache-rgjd73c7/wheels/8b/6c/d0/622666868c179f156cf595c8b6f06f88bc5d80c4b31dccaa03\n",
            "Successfully built openai-whisper\n",
            "Installing collected packages: openai-whisper\n",
            "Successfully installed openai-whisper-20231117\n"
          ]
        }
      ],
      "source": [
        "pip install git+https://github.com/openai/whisper.git"
      ]
    },
    {
      "cell_type": "markdown",
      "metadata": {
        "id": "7PEhFf7GO-8S"
      },
      "source": [
        "\n",
        "> The following code checks for any update to the model and forces a reinstall.\n",
        "\n",
        "\n",
        "\n",
        "\n",
        "\n",
        "\n",
        "\n"
      ]
    },
    {
      "cell_type": "code",
      "execution_count": 5,
      "metadata": {
        "colab": {
          "base_uri": "https://localhost:8080/"
        },
        "id": "Mq1U1uIZniOA",
        "outputId": "1b4b6f53-4d36-48fc-d022-d12326465a91"
      },
      "outputs": [
        {
          "output_type": "stream",
          "name": "stdout",
          "text": [
            "Collecting git+https://github.com/openai/whisper.git\n",
            "  Cloning https://github.com/openai/whisper.git to /tmp/pip-req-build-uyh85tu1\n",
            "  Running command git clone --filter=blob:none --quiet https://github.com/openai/whisper.git /tmp/pip-req-build-uyh85tu1\n",
            "  Resolved https://github.com/openai/whisper.git to commit ba3f3cd54b0e5b8ce1ab3de13e32122d0d5f98ab\n",
            "  Installing build dependencies ... \u001b[?25l\u001b[?25hdone\n",
            "  Getting requirements to build wheel ... \u001b[?25l\u001b[?25hdone\n",
            "  Preparing metadata (pyproject.toml) ... \u001b[?25l\u001b[?25hdone\n",
            "Building wheels for collected packages: openai-whisper\n",
            "  Building wheel for openai-whisper (pyproject.toml) ... \u001b[?25l\u001b[?25hdone\n",
            "  Created wheel for openai-whisper: filename=openai_whisper-20231117-py3-none-any.whl size=802825 sha256=9eaa5b2aff675e76df3141a9d3c15ab06231626f84cecb92ab48f771cca69fcb\n",
            "  Stored in directory: /tmp/pip-ephem-wheel-cache-nn4223aa/wheels/8b/6c/d0/622666868c179f156cf595c8b6f06f88bc5d80c4b31dccaa03\n",
            "Successfully built openai-whisper\n",
            "Installing collected packages: openai-whisper\n",
            "  Attempting uninstall: openai-whisper\n",
            "    Found existing installation: openai-whisper 20231117\n",
            "    Uninstalling openai-whisper-20231117:\n",
            "      Successfully uninstalled openai-whisper-20231117\n",
            "Successfully installed openai-whisper-20231117\n"
          ]
        }
      ],
      "source": [
        "pip install --upgrade --no-deps --force-reinstall git+https://github.com/openai/whisper.git"
      ]
    },
    {
      "cell_type": "markdown",
      "metadata": {
        "id": "nF9goFW8PLBA"
      },
      "source": [
        "Install ffmpeg, ffmpeg empowers you to manipulate audio and video files within your Python projects, enabling tasks like format conversion, transcoding, streaming, and more."
      ]
    },
    {
      "cell_type": "code",
      "execution_count": 6,
      "metadata": {
        "colab": {
          "base_uri": "https://localhost:8080/"
        },
        "id": "mWfSXssYnqZe",
        "outputId": "8b653cec-040e-455e-c820-8fece855a3bb"
      },
      "outputs": [
        {
          "output_type": "stream",
          "name": "stdout",
          "text": [
            "Collecting ffmpeg\n",
            "  Downloading ffmpeg-1.4.tar.gz (5.1 kB)\n",
            "  Preparing metadata (setup.py) ... \u001b[?25l\u001b[?25hdone\n",
            "Building wheels for collected packages: ffmpeg\n",
            "  Building wheel for ffmpeg (setup.py) ... \u001b[?25l\u001b[?25hdone\n",
            "  Created wheel for ffmpeg: filename=ffmpeg-1.4-py3-none-any.whl size=6080 sha256=3862187b223f8f6c479570dba3039542d49aebeef578c5b2f01c67803940b568\n",
            "  Stored in directory: /root/.cache/pip/wheels/8e/7a/69/cd6aeb83b126a7f04cbe7c9d929028dc52a6e7d525ff56003a\n",
            "Successfully built ffmpeg\n",
            "Installing collected packages: ffmpeg\n",
            "Successfully installed ffmpeg-1.4\n"
          ]
        }
      ],
      "source": [
        "pip install ffmpeg"
      ]
    },
    {
      "cell_type": "markdown",
      "metadata": {
        "id": "13ENCa6XPyWC"
      },
      "source": [
        "Install rust, It bridges the gap between Python and Rust, allowing you to create Python extensions written in Rust and seamlessly integrate them into your Python projects."
      ]
    },
    {
      "cell_type": "code",
      "execution_count": 7,
      "metadata": {
        "colab": {
          "base_uri": "https://localhost:8080/"
        },
        "id": "Xr0z4LOjn5Rd",
        "outputId": "a1b0b010-4f0f-4076-d3b9-5cb73145feab"
      },
      "outputs": [
        {
          "output_type": "stream",
          "name": "stdout",
          "text": [
            "Collecting setuptools-rust\n",
            "  Downloading setuptools_rust-1.8.1-py3-none-any.whl (26 kB)\n",
            "Requirement already satisfied: setuptools>=62.4 in /usr/local/lib/python3.10/dist-packages (from setuptools-rust) (67.7.2)\n",
            "Collecting semantic-version<3,>=2.8.2 (from setuptools-rust)\n",
            "  Downloading semantic_version-2.10.0-py2.py3-none-any.whl (15 kB)\n",
            "Requirement already satisfied: tomli>=1.2.1 in /usr/local/lib/python3.10/dist-packages (from setuptools-rust) (2.0.1)\n",
            "Installing collected packages: semantic-version, setuptools-rust\n",
            "Successfully installed semantic-version-2.10.0 setuptools-rust-1.8.1\n"
          ]
        }
      ],
      "source": [
        "pip install setuptools-rust"
      ]
    },
    {
      "cell_type": "code",
      "execution_count": 8,
      "metadata": {
        "id": "5o8mcQQXoIpU"
      },
      "outputs": [],
      "source": [
        "#!whisper audio.WAV --model medium"
      ]
    },
    {
      "cell_type": "markdown",
      "metadata": {
        "id": "yQtdjLb7P5R9"
      },
      "source": [
        "Remove # from the following code to run each cell."
      ]
    },
    {
      "cell_type": "code",
      "execution_count": 10,
      "metadata": {
        "id": "Rhcj8h1mf4-X"
      },
      "outputs": [],
      "source": [
        "#!whisper -h"
      ]
    },
    {
      "cell_type": "markdown",
      "source": [
        "Upload the audio clip which you want to transcribe. In this case, I am using an audio clip called \"GlobalNewsPodcast.MP3\". Using the name you gave your audio, substitue \"GlobalNewsPodcast.MP3\" for your new audio."
      ],
      "metadata": {
        "id": "4UEBiDiILb-3"
      }
    },
    {
      "cell_type": "code",
      "execution_count": 16,
      "metadata": {
        "id": "qhV1XXVHuMCi",
        "colab": {
          "base_uri": "https://localhost:8080/"
        },
        "outputId": "2153e730-417d-461c-90b3-919cf29d663f"
      },
      "outputs": [
        {
          "output_type": "stream",
          "name": "stdout",
          "text": [
            "/usr/local/lib/python3.10/dist-packages/whisper/transcribe.py:126: UserWarning: FP16 is not supported on CPU; using FP32 instead\n",
            "  warnings.warn(\"FP16 is not supported on CPU; using FP32 instead\")\n",
            "Detecting language using up to the first 30 seconds. Use `--language` to specify the language\n",
            "Detected language: English\n",
            "[00:00.000 --> 00:02.640]  Wait, so you said you genetically engineered yourself?\n",
            "[00:02.940 --> 00:07.540]  I put a foreign piece of DNA inside my cells.\n",
            "[00:07.820 --> 00:08.040]  Wow!\n",
            "[00:08.480 --> 00:12.800]  Crowd Science is the podcast that takes your questions about life and the world around us\n",
            "[00:12.800 --> 00:14.420]  and goes in search of the answers.\n",
            "[00:14.680 --> 00:17.080]  What happens to bugs during the winter?\n",
            "[00:17.200 --> 00:18.520]  Oh, there's a wasp in there.\n",
            "[00:18.660 --> 00:21.660]  Just search for Crowd Science wherever you found this podcast.\n",
            "[00:22.440 --> 00:25.300]  This is the Global News Podcast from the BBC World Service.\n",
            "[00:26.900 --> 00:31.320]  I'm Nick Miles, and in the early hours of Tuesday 14th November, these are our main stories.\n",
            "[00:32.040 --> 00:34.280]  Concerns are growing over hospitals in Gaza.\n",
            "[00:34.700 --> 00:37.740]  Dozens of premature babies are among those in danger.\n",
            "[00:37.960 --> 00:41.980]  Israel says Hamas is using the hospitals as cover for its command centres.\n",
            "[00:43.820 --> 00:49.540]  Also in this podcast, Donald Trump's son returns to the witness stand in the family fraud trial\n",
            "[00:49.540 --> 00:53.900]  and the book that's so difficult to understand it can take decades to read.\n",
            "[00:54.240 --> 00:55.280]  It's so difficult to understand.\n",
            "[00:55.280 --> 01:00.880]  It's so dense at times that you want to take the time to suss it out, how it makes you feel,\n",
            "[01:01.020 --> 01:06.160]  what Joyce may or may not be probing or hoiking up.\n",
            "[01:06.380 --> 01:08.040]  We'll reveal all later.\n",
            "[01:11.260 --> 01:15.680]  The World Health Organisation says Gaza's biggest hospital, al-Shifa,\n",
            "[01:15.880 --> 01:20.540]  is fast becoming a cemetery with bodies piling up inside and outside.\n",
            "[01:20.880 --> 01:24.440]  The building has no power and there's fierce fighting all around.\n",
            "[01:24.440 --> 01:29.420]  Hamas health officials say there are now no functioning hospitals in northern Gaza.\n",
            "[01:29.860 --> 01:35.060]  Our correspondent in Jerusalem, Nick Beek, sent this report, some of which you may find distressing.\n",
            "[01:39.100 --> 01:43.320]  There was chaos at Nasser Hospital near the city of Khan Yunis today\n",
            "[01:43.320 --> 01:49.000]  as stretchers carrying the injured from Israel's latest bombing raids were raced into the wards.\n",
            "[01:50.540 --> 01:53.980]  Doctors tried to examine the blood-soaked hand of a baby.\n",
            "[01:54.440 --> 01:59.440]  While medics at the next bed cut away the clothes from another child and began urgent treatment.\n",
            "[01:59.780 --> 02:02.240]  All this is happening in southern Gaza.\n",
            "[02:02.580 --> 02:07.400]  In the north of Gaza, the situation at al-Shifa, the territory's largest hospital,\n",
            "[02:07.620 --> 02:09.880]  is said to have deteriorated even further.\n",
            "[02:10.400 --> 02:13.760]  Medics say there are piles of bodies outside the main entrance\n",
            "[02:13.760 --> 02:19.420]  and the injured cannot be brought in for treatment because rescuers fear they too will be shot.\n",
            "[02:20.040 --> 02:23.560]  Israel claims Hamas has a control centre under the hospital,\n",
            "[02:23.560 --> 02:26.540]  a claim Hamas and doctors have denied.\n",
            "[02:26.900 --> 02:31.000]  One medic, who asked not to be named, sent the BBC this update.\n",
            "[02:33.520 --> 02:36.440]  There is no food to provide for the people here.\n",
            "[02:36.680 --> 02:39.600]  As medical teams, we can bear the suffering.\n",
            "[02:39.780 --> 02:44.560]  But there are 15,000 people here where half of them are children.\n",
            "[02:45.380 --> 02:46.820]  There is no food or water.\n",
            "[02:46.980 --> 02:52.300]  People risk their lives and go out in search of food or water for their children.\n",
            "[02:52.300 --> 02:54.820]  The situation here is very tragic.\n",
            "[02:55.100 --> 02:59.200]  There is extreme concern for the more than 30 newborn babies at al-Shifa,\n",
            "[02:59.400 --> 03:02.920]  now that their neonatal intensive care unit has lost power.\n",
            "[03:03.440 --> 03:09.180]  One source inside the hospital has told the BBC that seven of the babies have now died.\n",
            "[03:09.720 --> 03:12.440]  Israel denies it is firing on the hospital\n",
            "[03:12.440 --> 03:18.880]  and insists there is a safe route for medical staff, patients and civilians to leave the buildings.\n",
            "[03:20.540 --> 03:22.280]  Doctors say the intensive care unit has lost power.\n",
            "[03:22.280 --> 03:27.800]  of the Israeli operation has left other hospitals in northern Gaza without power and at breaking\n",
            "[03:27.800 --> 03:33.300]  point. Prime Minister Benjamin Netanyahu has asserted that accelerating the military campaign\n",
            "[03:33.300 --> 03:38.180]  will bring about the eradication of Hamas quicker and help bring home the estimated\n",
            "[03:38.180 --> 03:44.860]  240 hostages still being held. Families of those kidnapped are protesting this evening\n",
            "[03:44.860 --> 03:50.420]  once again, saying the release of their loved ones should be the priority, not the ground\n",
            "[03:50.420 --> 03:55.940]  operation. That was Nick Beek. Well, Mark Rego, the senior advisor to Israel's prime minister,\n",
            "[03:56.380 --> 04:02.160]  Matthew Amroliwala asked him what he was going to do to help the babies at al-Shifa hospital in Gaza.\n",
            "[04:02.700 --> 04:09.040]  We bought fuel, especially for the babies, for the incubators, because obviously no one wants\n",
            "[04:09.040 --> 04:14.720]  to see these babies in any way come into harm. We've also said we will approve their departure\n",
            "[04:14.720 --> 04:20.400]  to another hospital in ambulances and that can be facilitated too. But I'm not sure that Hamas\n",
            "[04:20.400 --> 04:24.580]  is interested in any of these solutions. They want pictures. They want pictures to show\n",
            "[04:24.580 --> 04:29.020]  a crisis. So there'll be pressure on Israel to cease our operation. That's their game plan.\n",
            "[04:29.560 --> 04:34.240]  You blame Hamas, but you know that the 300 litres of fuel that you've delivered, what\n",
            "[04:34.240 --> 04:38.920]  the doctors are saying, that would last for half an hour, one hour. The UN have been saying for\n",
            "[04:38.920 --> 04:45.280]  weeks now that this would be the consequences of fuel being cut off. But that image that has\n",
            "[04:45.280 --> 04:50.180]  gone around the world, it is absolutely harrowing of babies just swaddled,\n",
            "[04:50.400 --> 04:55.940]  not in incubators. It is absolutely harrowing. You can talk about military operations. You can\n",
            "[04:55.940 --> 05:00.720]  talk about objectives. But that is the reality on the ground, isn't it? And you have to take\n",
            "[05:00.720 --> 05:03.400]  responsibility for what you are doing as well, don't you?\n",
            "[05:03.960 --> 05:09.880]  Well, let's be clear. Who has turned the hospital into a war zone? Hamas, who have deliberately\n",
            "[05:09.880 --> 05:15.100]  built their military infrastructure under the hospital, a network of tunnels that connects\n",
            "[05:15.100 --> 05:20.280]  from their headquarters under the hospital, a network of tunnels that goes for mile after mile,\n",
            "[05:20.400 --> 05:26.100]  and includes rocket launching sites, their arms depots, their fortresses, their underground\n",
            "[05:26.100 --> 05:31.780]  fortresses. This is Hamas's military machine that they have deliberately built under a hospital.\n",
            "[05:31.880 --> 05:36.120]  Now, we're not targeting the hospital. We're trying to do our best to safeguard everyone in it.\n",
            "[05:36.260 --> 05:40.080]  But if anyone is held responsible for any harm that comes to those children,\n",
            "[05:40.220 --> 05:46.120]  it is Hamas who have, against all the laws of uncomplict, used those babies to shield its\n",
            "[05:46.120 --> 05:49.480]  military machine. Sure, but you have to take responsibility for what you're doing. Let me\n",
            "[05:49.480 --> 05:50.180]  just read a quote.\n",
            "[05:50.400 --> 05:55.220]  Because it expressly references what you're talking about. It's from the UN's humanitarian\n",
            "[05:55.220 --> 06:01.580]  chief, Volker Turk, who last week said, any use by Palestinian armed groups of civilians and\n",
            "[06:01.580 --> 06:07.280]  civilian objects to shield themselves from attacks is a contravention of the laws of war.\n",
            "[06:07.560 --> 06:12.740]  But such conduct by Palestinian armed groups does not absolve Israel of its obligation to ensure\n",
            "[06:12.740 --> 06:17.960]  that civilians are spared, that the principles of distinction, precautions in attack, and\n",
            "[06:17.960 --> 06:20.380]  proportionality are respected. Failure to do so is a violation of the laws of war.\n",
            "[06:20.380 --> 06:25.880]  It's also a contravention of laws of war. So those areas, distinction, precautions,\n",
            "[06:26.460 --> 06:30.740]  proportionality, they are all being questioned in terms of what you are responsible for.\n",
            "[06:30.980 --> 06:35.600]  They shouldn't be, because I would argue that Israel has been very strong in observing all\n",
            "[06:35.600 --> 06:41.640]  the laws of war. We've been urging people to leave the area of combat now for over three weeks. And\n",
            "[06:41.640 --> 06:45.900]  actually, literally hundreds of thousands of Palestinians in the northern Gaza Strip have\n",
            "[06:45.900 --> 06:49.880]  voted with their feet and relocated to the south. Sure, and you know that many can't as well.\n",
            "[06:50.380 --> 06:55.740]  No, but when you say they can't, is it because Hamas is preventing them to do so? How is it that\n",
            "[06:55.740 --> 07:00.480]  just in the last few days, when Hamas's power in the north has been challenged by the presence of\n",
            "[07:00.480 --> 07:05.060]  Israeli combat troops, suddenly we've got 150,000 people over the last three days who have also\n",
            "[07:05.060 --> 07:07.840]  left? Was someone preventing them from leaving up until now?\n",
            "[07:07.920 --> 07:13.720]  You said that Hamas have centres and command posts underneath those hospitals. You were also\n",
            "[07:13.720 --> 07:19.320]  saying that you're not directly targeting hospitals. How can both things be true? Because\n",
            "[07:19.320 --> 07:20.360]  we know that you are not directly targeting hospitals. You are not directly targeting hospitals.\n",
            "[07:20.380 --> 07:26.800]  You're firing and concentrating around the hospitals. If those command posts are underneath\n",
            "[07:26.800 --> 07:30.660]  the hospitals, how can it be true that you're not directly targeting them?\n",
            "[07:30.820 --> 07:34.600]  We're doing our best in a very difficult combat situation to be as surgical as is\n",
            "[07:34.600 --> 07:39.820]  humanly possible. But we don't target hospitals. We don't target patients in hospitals. We don't\n",
            "[07:39.820 --> 07:44.440]  target medical crews. But what is the problem? If you talk about al-Shifa, the director of the\n",
            "[07:44.440 --> 07:50.260]  hospital is a Hamas-appointed bureaucrat. And as a Hamas-appointed person, who is his\n",
            "[07:50.380 --> 07:55.260]  first loyalty to? And so when we are coming with practical solutions to try to solve the issue of\n",
            "[07:55.260 --> 07:59.760]  these children, of these babies on incubators, everything we've proposed is thrown out the\n",
            "[07:59.760 --> 08:03.720]  window. They don't take the fuel that was offered for their generators. They don't support the\n",
            "[08:03.720 --> 08:08.440]  movement of the babies out in ambulances. So of course they're stuck there because they want those\n",
            "[08:08.440 --> 08:15.820]  terrible photographs. Hamas wants those babies to die to save its military machine. That's what I\n",
            "[08:15.820 --> 08:20.300]  see. Mark Regev. Six weeks into Donald Trump's\n",
            "[08:20.380 --> 08:25.220]  fraud trial in New York, and today it was the turn of the former president's lawyers to begin\n",
            "[08:25.220 --> 08:30.020]  making their case. The stakes couldn't be much higher. If the prosecution gets its way, the Trump\n",
            "[08:30.020 --> 08:35.620]  organization could be barred from ever again operating in New York state and face a fine of\n",
            "[08:35.620 --> 08:40.860]  at least a quarter of a billion dollars. First up for the defense, the former president's oldest son,\n",
            "[08:40.980 --> 08:46.040]  Donald Jr. Our New York correspondent, Neda Torfik, was watching proceedings and spoke to\n",
            "[08:46.040 --> 08:50.120]  my colleague, Tim Franks. What was just so striking was how\n",
            "[08:50.380 --> 08:55.560]  much they really focused on this defense claim that the Trump properties were extremely valuable.\n",
            "[08:55.720 --> 09:00.940]  And if anything, they were undervalued in those financial statements that the judge has already\n",
            "[09:00.940 --> 09:07.040]  ruled were fraudulent. So Donald Trump Jr. was really given the leeway under defense questioning\n",
            "[09:07.040 --> 09:12.700]  to talk at length about these properties. The defense put up a PowerPoint presentation that was\n",
            "[09:12.700 --> 09:18.300]  put together by the Trump organization's marketing team. And he spent the entire morning and part of\n",
            "[09:18.300 --> 09:20.260]  the afternoon just meticulously\n",
            "[09:20.380 --> 09:26.380]  going through, talking about the Central Park view at Trump Tower, the vaults inside 40 Wall Street,\n",
            "[09:26.580 --> 09:32.560]  how Mar-a-Lago was an American castle on land that was unseen between an ocean and a lake. It was just\n",
            "[09:32.560 --> 09:37.560]  this type of kind of bragging and boasting about these properties that we're so used to hearing from\n",
            "[09:37.560 --> 09:43.400]  his father. But they really didn't touch on any of the other kind of key defense arguments or at all\n",
            "[09:43.400 --> 09:49.300]  on the financial statements themselves. It was really much just this attempt to really bolster his\n",
            "[09:49.300 --> 09:50.300]  father as the\n",
            "[09:50.300 --> 09:50.360]  Speaker.\n",
            "[09:50.380 --> 09:51.280]  This real estate genius.\n",
            "[09:51.580 --> 10:00.760]  Right. And the judge who's had pretty testy relations with especially Donald J. Trump, the dad. I mean, he's\n",
            "[10:00.760 --> 10:07.580]  expressed impatience in the past about sort of stuff going off piste, as it were, the stuff that he doesn't think is\n",
            "[10:07.580 --> 10:10.020]  relevant to the case. What was his attitude today?\n",
            "[10:10.540 --> 10:20.080]  You know, he was joking around with Don Jr. at points, Don Jr. saying how, you know, he's the only non-golfer in the family and the judge being amused by that. But otherwise, he has\n",
            "[10:20.080 --> 10:27.420]  really let the defense take their time. At one point, the prosecution objected, saying he was just taking too long.\n",
            "[10:27.520 --> 10:29.200]  And he said, let him speak about how\n",
            "[10:29.200 --> 10:30.900]  great the Trump organization is.\n",
            "[10:31.060 --> 10:37.740]  And I think what you're seeing here is the judge is very conscious that the defense has tried to paint him as biased. He has\n",
            "[10:37.740 --> 10:44.040]  said point-blank in court that he doesn't want this case to be reversed on appeal. and so the judge has let\n",
            "[10:44.040 --> 10:48.660]  him speak at length. He hasn't interrupted, except for a few times to say, if\n",
            "[10:48.660 --> 10:50.060]  you're going to say again, maybe you don't hear this thing, you're only going to have to take a little bit bite of that. But he's even\n",
            "[10:50.060 --> 10:55.100]  need to repeat yourself so often but otherwise he is very conscious of this claim against him\n",
            "[10:55.100 --> 11:01.500]  that he's biased. I'm wondering what you think or legal experts think the defense need to do\n",
            "[11:01.500 --> 11:07.320]  because all the testimony that I've read and the analysis I've read suggests that the witnesses\n",
            "[11:07.320 --> 11:13.520]  in particular the Trump family and in particular Donald Trump himself didn't do his case a huge\n",
            "[11:13.520 --> 11:19.720]  deal of favor when the prosecution were examining him. So what's the sense of the job that the\n",
            "[11:19.720 --> 11:24.960]  defense have in front of them? Yeah you know and I think another point that was made was one of the\n",
            "[11:24.960 --> 11:30.580]  reasons Donald Trump did kind of go into attack mode on the stand was because he has really\n",
            "[11:30.580 --> 11:35.460]  resigned himself I think to the fact that he has lost this case. I mean we already know he lost\n",
            "[11:35.460 --> 11:39.360]  the heart of it with the judge ruling the statements were fraudulent. I think what they're\n",
            "[11:39.360 --> 11:45.620]  really trying to focus on now is that the family didn't intentionally do anything wrong. That they\n",
            "[11:45.620 --> 11:49.460]  really do feel the bank would have given them this loan regardless. So\n",
            "[11:49.460 --> 11:55.300]  we expect the prosecution to try to put up expert witnesses. They call them expert witnesses on\n",
            "[11:55.300 --> 11:59.840]  accounting and valuations. They're going to try to convince the judge that as Donald Trump said\n",
            "[11:59.840 --> 12:04.440]  these statements had a worthless clause. The banks didn't rely on them. We already heard from\n",
            "[12:04.440 --> 12:08.740]  Deutsche Bank that they didn't do their own due diligence even though they shaved off some of the\n",
            "[12:08.740 --> 12:14.020]  valuation of those properties. But that's going to be what I think the defense really wants to\n",
            "[12:14.020 --> 12:15.180]  put forward to the judge.\n",
            "[12:19.460 --> 12:24.500]  Two-way radios to make contact with 40 construction workers who were trapped in a tunnel which\n",
            "[12:24.500 --> 12:30.280]  collapsed. Police in the Himalayan state of Uttarakhand say the men are safe and heavy\n",
            "[12:30.280 --> 12:35.460]  machinery is being used to remove the rubble. Our South Asia correspondent Samira Hussain reports\n",
            "[12:35.460 --> 12:40.780]  from Delhi. The collapse happened yesterday morning when heavy debris from a nearby landslide\n",
            "[12:40.780 --> 12:46.320]  fell onto the tunnel trapping the workers. By last night officials were able to make contact\n",
            "[12:46.320 --> 12:49.260]  with the trapped workers and have sent down dry food\n",
            "[12:49.460 --> 12:55.920]  rations and water while also pumping oxygen into the tunnel. Now the challenge is getting them out.\n",
            "[12:56.100 --> 13:00.700]  Efforts have been slow as emergency workers have to contend with falling mud and debris\n",
            "[13:00.700 --> 13:06.720]  as they dig towards the trapped workers. Officials have not given a timeline for when they may be\n",
            "[13:06.720 --> 13:12.540]  rescued. The labourers were working on the Silkyada tunnel in the northern state of Uttarakhand.\n",
            "[13:12.720 --> 13:17.420]  It is an ambitious project by the federal government to connect some of India's most\n",
            "[13:17.420 --> 13:18.860]  popular Hindu shrines.\n",
            "[13:19.460 --> 13:20.200]  Samira Hussain\n",
            "[13:20.980 --> 13:26.380]  South Africa is set to be the first African country to introduce shared parental leave\n",
            "[13:26.380 --> 13:32.020]  after a high court decided that both parents have the right to time off after having or adopting a\n",
            "[13:32.020 --> 13:37.740]  child. In the past mothers were entitled to four months leave whilst fathers and partners were only\n",
            "[13:37.740 --> 13:42.940]  allowed a maximum of 10 days. This ruling will give the parents a choice on how they divide\n",
            "[13:42.940 --> 13:48.840]  four months parental leave between themselves. Rob Young spoke to Vessel Vandenberg who runs a\n",
            "[13:48.840 --> 13:49.440]  group called Mothers. He said that the parents have the right to time off after having or adopting a child.\n",
            "[13:49.460 --> 13:53.840]  The Mothers have been campaigning for shared parental leave for over a decade.\n",
            "[13:54.740 --> 14:00.840]  What we've seen in other countries is that when shared leave is available usually the father\n",
            "[14:00.840 --> 14:06.820]  is unlikely to take the leave initially and often passes most of the leave to the mother.\n",
            "[14:06.980 --> 14:15.160]  So how this could work is that if both parents can decide together they can then take ideally\n",
            "[14:15.160 --> 14:17.860]  eventually half of the leave available to both.\n",
            "[14:18.060 --> 14:19.220]  But what we've been\n",
            "[14:19.220 --> 14:26.060]  calling for from the MenCare campaign is that a portion of non-transferable leave is added to the\n",
            "[14:26.060 --> 14:31.780]  shared leave that is now being offered and that has been shown in countries like Spain or Sweden\n",
            "[14:31.780 --> 14:36.860]  to actually nudge fathers to take more of the shared leave portion as well.\n",
            "[14:37.020 --> 14:40.980]  Right so you'd like South Africa to go further then you want you want them to enhance the leave\n",
            "[14:40.980 --> 14:41.940]  that they're planning to offer?\n",
            "[14:42.480 --> 14:47.280]  Absolutely it's a major leap forward for us and we're the first country in Africa to offer such\n",
            "[14:47.280 --> 14:49.200]  a substantial portion of the leave that they're planning to offer.\n",
            "[14:49.200 --> 14:49.200]  So we've been calling for from the MenCare campaign is that a portion of non-transferable leave is added to the\n",
            "[14:49.200 --> 14:55.020]  But what we've been hearing from women's rights groups is that you know this would cut into\n",
            "[14:55.020 --> 15:00.560]  maternity leave so it would take time away from mothers and what we've seen from our evidence from\n",
            "[15:00.560 --> 15:05.520]  what we've been gathering as Equimundo and the MenCare campaign is that other countries actually\n",
            "[15:05.520 --> 15:11.280]  show us that fathers are unlikely to take as much leave as available unless there are incentives.\n",
            "[15:11.720 --> 15:17.520]  And this is paid leave isn't it so it will rely on companies being able to afford this as well.\n",
            "[15:17.620 --> 15:19.020]  What is your assessment of whether companies,\n",
            "[15:19.200 --> 15:20.120]  we'll be able to afford this?\n",
            "[15:20.380 --> 15:25.560]  Well what we've seen is that this actually over the long term with data from the International\n",
            "[15:25.560 --> 15:30.960]  Labour Organization there is a return on investment particularly for companies who\n",
            "[15:30.960 --> 15:37.460]  are able to implement leave in a way that encourages retention. We will see that employees\n",
            "[15:37.460 --> 15:42.680]  actually stay with the companies longer term so for example companies in the financial sector\n",
            "[15:42.680 --> 15:48.460]  or companies in the IT sector, the technology sector, talent is really important.\n",
            "[15:49.200 --> 15:55.380]  And retaining talent becomes a cost-saving measure over time. So offering benefits like leave\n",
            "[15:55.380 --> 16:00.420]  therefore retains talent over the long term which introduces cost savings.\n",
            "[16:00.880 --> 16:05.960]  An awful lot of South Africans, several million of them work in the what is called the informal\n",
            "[16:05.960 --> 16:10.700]  sector so effectively don't get a paycheck but do earn money some way and therefore they won't\n",
            "[16:10.700 --> 16:16.660]  be able to benefit from this will they? Well in South Africa employees will benefit from a state\n",
            "[16:16.660 --> 16:18.680]  payment to support this time.\n",
            "[16:19.200 --> 16:24.900]  So therefore they will be able to have time off. And what we are seeing from data from the world...\n",
            "[16:24.900 --> 16:29.020]  So you're saying people who aren't in employment but work informally will be able to benefit?\n",
            "[16:29.660 --> 16:36.380]  Yes, we are seeing increasingly protection of people in the informal sector around the world\n",
            "[16:36.380 --> 16:38.180]  including in South Africa.\n",
            "[16:38.660 --> 16:39.760]  Vessel Vandenberg.\n",
            "[16:42.500 --> 16:43.340]  Still to come.\n",
            "[16:43.600 --> 16:48.920]  I heard a lot about him growing up and he played a massive part in the rebuilding of this\n",
            "[16:48.920 --> 16:49.120]  club.\n",
            "[16:49.200 --> 16:53.300]  On to what it is today. Player, director, top guy.\n",
            "[16:53.880 --> 17:00.200]  Fans bid a final farewell to Manchester United and English footballing legend Bobby Charlton.\n",
            "[17:05.120 --> 17:07.240]  How do we navigate in space?\n",
            "[17:07.660 --> 17:10.520]  Are humans naturally clean and tidy?\n",
            "[17:10.860 --> 17:12.740]  What exactly is this quantum computer?\n",
            "[17:13.000 --> 17:14.720]  Can smell enhance your appetite?\n",
            "[17:15.080 --> 17:17.780]  Crowd Science is the podcast that takes your science questions\n",
            "[17:17.780 --> 17:19.180]  and goes in search of the future.\n",
            "[17:19.200 --> 17:21.780]  My question for Crowd Science is\n",
            "[17:21.780 --> 17:23.800]  are artistic brains different?\n",
            "[17:24.220 --> 17:25.980]  Stick with me because there's been some really\n",
            "[17:25.980 --> 17:27.420]  fascinating research into this.\n",
            "[17:27.600 --> 17:29.760]  That's Crowd Science from the BBC World Service.\n",
            "[17:30.040 --> 17:31.100]  I love this question.\n",
            "[17:31.440 --> 17:34.100]  Just search for Crowd Science wherever you found this podcast.\n",
            "[17:34.420 --> 17:34.640]  Wow.\n",
            "[17:37.080 --> 17:40.580]  In Brazil, President Luiz Inácio Lula da Silva\n",
            "[17:40.580 --> 17:42.300]  has increased the number of places\n",
            "[17:42.300 --> 17:44.140]  reserved at public universities.\n",
            "[17:44.340 --> 17:45.900]  For students of African or\n",
            "[17:45.900 --> 17:48.180]  indigenous descent, for people with disability\n",
            "[17:48.180 --> 17:49.180]  or for language, for people with disabilities, for people with disabilities, for people with disabilities,\n",
            "[17:49.180 --> 17:51.820]  with lower income families, by fourfold.\n",
            "[17:52.780 --> 17:54.580]  Well, this measure is meant to tackle inequality\n",
            "[17:54.580 --> 17:57.480]  in the country, but it is not without its critics.\n",
            "[17:57.800 --> 18:01.080]  I spoke to the BBC America's editor, Leonardo Rocha.\n",
            "[18:02.080 --> 18:05.140]  It allocates 50% of university places to\n",
            "[18:05.140 --> 18:07.940]  people who come either from poor backgrounds.\n",
            "[18:08.040 --> 18:11.740]  There's a limit of about minimum wage salary,\n",
            "[18:11.860 --> 18:17.020]  family income or from different racial backgrounds,\n",
            "[18:17.240 --> 18:19.160]  indigenous, black, Mexican, etc.\n",
            "[18:19.160 --> 18:19.160]  From around the country.\n",
            "[18:19.160 --> 18:21.060]  mixed race, also disabled.\n",
            "[18:21.400 --> 18:24.820]  So you have a division of places according to that.\n",
            "[18:25.000 --> 18:27.140]  So you might have people who are white\n",
            "[18:27.140 --> 18:28.660]  or describe themselves as white\n",
            "[18:28.660 --> 18:30.560]  and they will be favoured by,\n",
            "[18:31.240 --> 18:33.080]  benefited by the squelters as well\n",
            "[18:33.080 --> 18:35.140]  because they come from a low-income family.\n",
            "[18:35.480 --> 18:36.320]  How will it work though?\n",
            "[18:36.360 --> 18:39.960]  Because Brazil is an incredibly racially diverse nation.\n",
            "[18:40.280 --> 18:42.960]  Who says who is black, who is indigenous\n",
            "[18:42.960 --> 18:44.260]  and who is white?\n",
            "[18:44.560 --> 18:46.440]  Well, the current legislation\n",
            "[18:46.440 --> 18:49.660]  which was implemented about a decade ago\n",
            "[18:49.660 --> 18:52.760]  said that to avoid any sort of prejudice\n",
            "[18:52.760 --> 18:54.100]  it will be self-declaration.\n",
            "[18:54.460 --> 18:55.460]  People would come and say,\n",
            "[18:55.560 --> 18:58.880]  I declare that I identify as black.\n",
            "[18:59.140 --> 19:01.960]  But then there were many accusations of fraud,\n",
            "[19:02.160 --> 19:05.120]  especially in the most difficult courses like medicine.\n",
            "[19:05.980 --> 19:09.000]  So different universities have set up committees\n",
            "[19:09.000 --> 19:12.280]  to verify that, to check if they agreed or not.\n",
            "[19:12.700 --> 19:14.440]  And it's still not in the law,\n",
            "[19:14.520 --> 19:16.200]  but that's what most universities do.\n",
            "[19:16.440 --> 19:17.960]  If someone declared that they are black\n",
            "[19:17.960 --> 19:19.540]  or they're indigenous, they will check.\n",
            "[19:19.880 --> 19:22.660]  So why has President Lula said that this programme\n",
            "[19:22.660 --> 19:24.860]  needs to be extended by fourfold?\n",
            "[19:25.180 --> 19:28.060]  Well, what you have in Brazil is a situation\n",
            "[19:28.060 --> 19:31.220]  where Brazil, many people won't know,\n",
            "[19:31.320 --> 19:34.780]  has the second biggest black population in the world\n",
            "[19:34.780 --> 19:35.960]  after Nigeria.\n",
            "[19:36.300 --> 19:39.060]  It was the last country in the world to free slaves.\n",
            "[19:39.480 --> 19:43.060]  So there's a lot of, let's say, historical legacy\n",
            "[19:43.060 --> 19:44.800]  and a history of discrimination\n",
            "[19:44.800 --> 19:46.320]  where most...\n",
            "[19:46.440 --> 19:46.860]  I would say that most of the people,\n",
            "[19:47.300 --> 19:49.900]  I would say that most of the black people,\n",
            "[19:49.940 --> 19:51.160]  people of African origin,\n",
            "[19:51.360 --> 19:52.380]  many of them are mixed,\n",
            "[19:52.580 --> 19:54.260]  are the poorest.\n",
            "[19:54.620 --> 19:57.220]  But the criticism to this legislation\n",
            "[19:57.220 --> 19:59.840]  is that, or to quote a system in Brazil,\n",
            "[19:59.920 --> 20:02.200]  is that Brazil is a racially diverse country.\n",
            "[20:02.340 --> 20:03.760]  You have people in the same family\n",
            "[20:03.760 --> 20:06.060]  who will look black or who look white,\n",
            "[20:06.080 --> 20:06.840]  or mixed race.\n",
            "[20:07.020 --> 20:08.940]  So it's not the same scenario as you had\n",
            "[20:08.940 --> 20:12.240]  in the United States or, let's say, in South Africa.\n",
            "[20:12.500 --> 20:14.020]  So that's one of the criticisms.\n",
            "[20:14.500 --> 20:16.280]  But what President Lula said,\n",
            "[20:16.440 --> 20:18.780]  is we have been doing what we can\n",
            "[20:18.780 --> 20:21.900]  to reduce social inequality and racism.\n",
            "[20:21.980 --> 20:23.640]  And that's a way of doing it.\n",
            "[20:23.760 --> 20:26.200]  The current legislation has managed\n",
            "[20:26.200 --> 20:28.700]  to get many, many people into university\n",
            "[20:28.700 --> 20:30.500]  and people who did well\n",
            "[20:30.500 --> 20:33.040]  who wouldn't have gone into university without it.\n",
            "[20:33.240 --> 20:34.560]  That was Leonardo Rocha.\n",
            "[20:35.220 --> 20:37.580]  In Iceland, they are bracing themselves\n",
            "[20:37.580 --> 20:39.020]  for a volcanic eruption.\n",
            "[20:39.340 --> 20:42.140]  The town of Grindavik has been evacuated\n",
            "[20:42.140 --> 20:45.480]  after cracks and holes started to appear in the ground.\n",
            "[20:46.240 --> 20:46.420]  One was...\n",
            "[20:46.440 --> 20:47.680]  Some resident recorded a tremor\n",
            "[20:47.680 --> 20:48.900]  hitting his house on Friday.\n",
            "[20:54.560 --> 20:56.440]  Well, Evan Davis got the latest\n",
            "[20:56.440 --> 20:58.900]  from Icelandic journalist and radio presenter\n",
            "[20:58.900 --> 21:00.440]  Hulda Gertdóttir.\n",
            "[21:01.200 --> 21:02.900]  There's still a lot of uncertainty\n",
            "[21:02.900 --> 21:04.260]  regarding an eruption.\n",
            "[21:04.460 --> 21:05.740]  There is a slight possibility\n",
            "[21:05.740 --> 21:07.000]  that there won't be one,\n",
            "[21:07.100 --> 21:09.800]  but they say that the odds are much higher\n",
            "[21:09.800 --> 21:11.500]  on that there will be an eruption,\n",
            "[21:11.620 --> 21:14.400]  whether it'll happen in hours, in days or in weeks.\n",
            "[21:14.500 --> 21:15.820]  We don't know at this point.\n",
            "[21:16.440 --> 21:17.580]  But what has happened today\n",
            "[21:17.580 --> 21:19.040]  and which is a new development\n",
            "[21:19.040 --> 21:20.620]  is that people have been allowed\n",
            "[21:20.620 --> 21:23.520]  to come into the town in small groups,\n",
            "[21:23.700 --> 21:25.100]  one person per home,\n",
            "[21:25.740 --> 21:27.400]  to get their valuables.\n",
            "[21:27.520 --> 21:29.700]  And they get about five minutes\n",
            "[21:29.700 --> 21:32.240]  to go into the house and get what they need.\n",
            "[21:32.420 --> 21:34.480]  The town you're talking about, Grindavik,\n",
            "[21:34.520 --> 21:37.720]  it's not that far from the main airport,\n",
            "[21:38.060 --> 21:39.540]  Grindavik International Airport.\n",
            "[21:39.740 --> 21:41.060]  I mean, are people braced\n",
            "[21:41.060 --> 21:43.440]  for having to close the airport for some period?\n",
            "[21:43.900 --> 21:45.160]  Not at this point.\n",
            "[21:45.340 --> 21:46.240]  We've had...\n",
            "[21:46.240 --> 21:47.880]  We've had three eruptions in this area\n",
            "[21:47.880 --> 21:49.060]  in the last three years,\n",
            "[21:49.220 --> 21:51.100]  but they haven't been in the town.\n",
            "[21:51.220 --> 21:52.620]  So they've been in the vicinity.\n",
            "[21:53.140 --> 21:54.940]  And in none of those cases,\n",
            "[21:55.040 --> 21:57.400]  the airport has had to close or had any problems.\n",
            "[21:57.580 --> 21:59.600]  The risk is that if it goes out to sea,\n",
            "[21:59.800 --> 22:01.260]  it could be a little bit different\n",
            "[22:01.260 --> 22:03.920]  because if the lava mixes with seawater,\n",
            "[22:04.020 --> 22:07.880]  then we could be looking at some ash and steam and things.\n",
            "[22:08.000 --> 22:08.860]  But at this moment,\n",
            "[22:09.000 --> 22:10.560]  there's nothing to worry about there.\n",
            "[22:10.760 --> 22:12.200]  And just to add,\n",
            "[22:12.420 --> 22:15.220]  it is completely safe at the moment to travel to Iceland.\n",
            "[22:15.220 --> 22:18.020]  So if you have travel plans to come to Iceland,\n",
            "[22:18.220 --> 22:20.920]  I'm sorry, you're not going to be able to go to the Blue Lagoon,\n",
            "[22:20.980 --> 22:22.660]  but everything else is fine.\n",
            "[22:22.800 --> 22:25.180]  People can travel from the airport to the city\n",
            "[22:25.180 --> 22:26.700]  and then out around the country.\n",
            "[22:26.980 --> 22:30.000]  So there's no need to worry about that at this moment.\n",
            "[22:30.300 --> 22:31.960]  What is happening to the people,\n",
            "[22:32.060 --> 22:33.360]  the citizens of Grindavik,\n",
            "[22:33.380 --> 22:35.020]  who have evacuated their town?\n",
            "[22:35.120 --> 22:35.880]  Where do they all go?\n",
            "[22:36.000 --> 22:37.860]  Is there a kind of a protocol\n",
            "[22:37.860 --> 22:40.140]  for what happens when you have to evacuate somewhere?\n",
            "[22:40.420 --> 22:42.560]  Well, we're a very small nation.\n",
            "[22:42.640 --> 22:44.580]  And in times like this,\n",
            "[22:44.580 --> 22:45.700]  people come together.\n",
            "[22:45.940 --> 22:47.880]  So what happened on Saturday\n",
            "[22:47.880 --> 22:50.240]  when they had to evacuate in the middle of the night?\n",
            "[22:50.580 --> 22:52.500]  Most of the people could go\n",
            "[22:52.500 --> 22:53.960]  and stay with friends and relatives.\n",
            "[22:54.260 --> 22:57.720]  There is a population of immigrants in the town,\n",
            "[22:57.840 --> 22:59.860]  people from Poland and other countries\n",
            "[22:59.860 --> 23:03.620]  that don't have this network of family and friends in the country.\n",
            "[23:03.900 --> 23:06.920]  And some of these people had to go to shelters.\n",
            "[23:07.100 --> 23:09.020]  And then there's all these practical things\n",
            "[23:09.020 --> 23:10.320]  they're trying to figure out now.\n",
            "[23:10.520 --> 23:12.040]  Where do the kids go to school?\n",
            "[23:12.260 --> 23:13.980]  How do we keep things going?\n",
            "[23:14.100 --> 23:14.560]  Are there...\n",
            "[23:14.580 --> 23:16.500]  Businesses in Grindavik are closed, of course.\n",
            "[23:16.520 --> 23:19.380]  There's a lot of valuables going to waste right now,\n",
            "[23:19.480 --> 23:22.520]  sitting in like the fishing factories and all the places.\n",
            "[23:22.720 --> 23:25.020]  But it's actually been amazing to see\n",
            "[23:25.020 --> 23:29.500]  sort of a collective effort on social media by people,\n",
            "[23:30.100 --> 23:32.160]  where people are just coming in to this group\n",
            "[23:32.160 --> 23:34.420]  that was put together and they're offering housing,\n",
            "[23:35.040 --> 23:38.080]  clothes, you know, any kind of assistance.\n",
            "[23:38.300 --> 23:40.580]  But there's a lot of work ahead of us,\n",
            "[23:40.640 --> 23:42.560]  whether there's an eruption or not,\n",
            "[23:42.580 --> 23:44.140]  because there's a lot of damage.\n",
            "[23:44.140 --> 23:45.440]  And there's a lot of damage in this little town already.\n",
            "[23:45.820 --> 23:49.480]  Scientists are saying that there's a new eruption era.\n",
            "[23:49.680 --> 23:54.480]  But we do have experience from a whole town going under in 1973\n",
            "[23:54.480 --> 23:57.440]  when there was an eruption in the Westman Islands.\n",
            "[23:57.520 --> 23:58.540]  The town changed.\n",
            "[23:58.760 --> 24:00.520]  But a lot of people came back\n",
            "[24:00.520 --> 24:05.700]  and pulled out and cleaned out tons and tons of ash and lava\n",
            "[24:05.700 --> 24:08.820]  and built new houses and went back there.\n",
            "[24:08.980 --> 24:10.900]  But it's just...\n",
            "[24:10.900 --> 24:12.420]  It's so surreal.\n",
            "[24:12.560 --> 24:13.960]  It's so difficult to imagine.\n",
            "[24:14.140 --> 24:16.880]  The feelings and the thoughts of the people\n",
            "[24:16.880 --> 24:18.460]  who are in this situation at the moment.\n",
            "[24:18.900 --> 24:20.740]  Hulda Gerstottir in Iceland.\n",
            "[24:22.040 --> 24:25.600]  Thousands of people came out onto the streets of Manchester in England\n",
            "[24:25.600 --> 24:28.220]  to honour one of English football's greatest players,\n",
            "[24:28.700 --> 24:29.480]  Sir Bobby Charlton.\n",
            "[24:29.640 --> 24:33.420]  The former Manchester United player died last month, aged 86.\n",
            "[24:33.900 --> 24:36.040]  These fans told us why they'd come.\n",
            "[24:36.600 --> 24:39.780]  I feel like I had to come today to pay tribute, really,\n",
            "[24:39.820 --> 24:42.880]  to someone who served Manchester United the way he did.\n",
            "[24:43.180 --> 24:44.080]  You know, a champion.\n",
            "[24:44.140 --> 24:45.260]  Champions League winner, World Cup winner.\n",
            "[24:45.460 --> 24:46.780]  There's not many of them in the world.\n",
            "[24:46.960 --> 24:49.980]  It's just something you've got to do for the history of the club,\n",
            "[24:50.020 --> 24:50.880]  the history of the man.\n",
            "[24:51.300 --> 24:55.540]  He was just pivotal for England and for Man United.\n",
            "[24:55.980 --> 24:57.240]  My dad used to watch him.\n",
            "[24:57.320 --> 24:59.220]  I heard a lot about him growing up.\n",
            "[24:59.380 --> 25:02.900]  And he played a massive part in the rebuilding of this club\n",
            "[25:02.900 --> 25:03.860]  and to what it is today.\n",
            "[25:05.080 --> 25:07.520]  Player, director, top guy.\n",
            "[25:07.980 --> 25:10.120]  As our sports editor Dan Rowan reports,\n",
            "[25:10.320 --> 25:13.540]  the funeral cortege began at United's ground, Old Trafford,\n",
            "[25:13.540 --> 25:15.740]  and the route ended at Manchester Cathedral,\n",
            "[25:15.880 --> 25:17.760]  where a private funeral was held.\n",
            "[25:19.580 --> 25:23.860]  A final farewell for arguably English football's greatest ever figure.\n",
            "[25:24.140 --> 25:26.500]  Here at the stadium where he's immortalised,\n",
            "[25:26.600 --> 25:29.680]  thousands paying tribute to Sir Bobby Charlton earlier\n",
            "[25:29.680 --> 25:32.540]  as his funeral cortege passed Old Trafford,\n",
            "[25:32.660 --> 25:36.240]  home of the club where he made more than 750 appearances.\n",
            "[25:38.440 --> 25:41.760]  Members of United's youth teams forming a guard of honour\n",
            "[25:41.760 --> 25:43.040]  as the hearse drove past.\n",
            "[25:43.540 --> 25:46.480]  The ground adorned with images depicting a glittering career.\n",
            "[25:47.100 --> 25:48.640]  He's a gentleman and a legend.\n",
            "[25:49.460 --> 25:50.440]  Do you know what I mean?\n",
            "[25:50.500 --> 25:51.440]  He had time for everybody.\n",
            "[25:52.100 --> 25:53.920]  Now, we've been to different countries,\n",
            "[25:54.020 --> 25:56.300]  and you said, we have Manchester, Bobby Charlton.\n",
            "[25:56.420 --> 25:57.260]  Everybody knew him.\n",
            "[25:57.560 --> 25:59.520]  At Manchester Cathedral, meanwhile,\n",
            "[25:59.820 --> 26:03.220]  1,000 guests, including the FA president, Prince William,\n",
            "[26:03.460 --> 26:06.380]  legendary former United manager Sir Alex Ferguson,\n",
            "[26:06.640 --> 26:09.960]  and a host of other footballing stars past and present\n",
            "[26:09.960 --> 26:12.620]  arriving for a private memorial service.\n",
            "[26:12.960 --> 26:13.520]  One of them...\n",
            "[26:13.540 --> 26:15.900]  One of Sir Bobby's former teammates paying this tribute.\n",
            "[26:16.460 --> 26:20.680]  Never thought in my dreams as a kid that I'd come through\n",
            "[26:20.680 --> 26:22.760]  and play for Manchester United,\n",
            "[26:23.000 --> 26:26.160]  but playing with Bobby Charlton, something special, wasn't it?\n",
            "[26:27.740 --> 26:30.900]  With many more gathering at the end of the funeral procession\n",
            "[26:30.900 --> 26:32.640]  to show just how much he meant to them,\n",
            "[26:32.720 --> 26:34.980]  Charlton's coffin, accompanied by his family,\n",
            "[26:35.120 --> 26:38.960]  was carried into the cathedral for a service celebrating a remarkable life.\n",
            "[26:39.300 --> 26:42.160]  A survivor of the 1958 Munich air disaster,\n",
            "[26:42.340 --> 26:43.420]  over the next decade,\n",
            "[26:43.540 --> 26:45.300]  Charlton reached the very top of the game.\n",
            "[26:46.440 --> 26:48.860]  World Cup winner with England in 1966,\n",
            "[26:49.420 --> 26:52.300]  European Cup winner with United two years later.\n",
            "[26:52.740 --> 26:55.140]  Renowned not only for his goal scoring and skill,\n",
            "[26:55.320 --> 26:57.260]  but also his decency and class.\n",
            "[26:58.140 --> 27:00.060]  I saw him on occasion, obviously,\n",
            "[27:00.220 --> 27:01.400]  and the speakers did fantastic.\n",
            "[27:01.840 --> 27:04.220]  Bobby Charlton was a wonderful, humble man.\n",
            "[27:04.500 --> 27:06.880]  And I'm at Manchester United because of Bobby Charlton.\n",
            "[27:07.000 --> 27:07.640]  Without doubt.\n",
            "[27:08.180 --> 27:11.600]  With today's service followed by a private wake at Old Trafford,\n",
            "[27:11.680 --> 27:13.520]  the world of football was left to reflect,\n",
            "[27:13.520 --> 27:16.280]  on the loss of a truly legendary figure,\n",
            "[27:16.400 --> 27:18.260]  but one that will never be forgotten.\n",
            "[27:18.760 --> 27:19.500]  Dan Rowan.\n",
            "[27:20.060 --> 27:24.840]  In 1995, an experimental filmmaker called Gerry Fialka,\n",
            "[27:24.860 --> 27:27.500]  from Venice, California, set up a book club.\n",
            "[27:27.720 --> 27:30.580]  Its aim, once a month or so, was to get together and discuss\n",
            "[27:30.580 --> 27:32.880]  one of the hardest works of modern literature,\n",
            "[27:33.360 --> 27:35.400]  James Joyce's Finnegan's Wake.\n",
            "[27:35.680 --> 27:38.080]  Well, last month, they finally got to the end.\n",
            "[27:38.240 --> 27:41.080]  Gerry told us why he chose this particular novel.\n",
            "[27:41.920 --> 27:44.100]  Finnegan's Wake is beyond description.\n",
            "[27:44.480 --> 27:48.500]  As Sam Beckett said, it's not about something, it is something.\n",
            "[27:48.820 --> 27:56.120]  The reason it took us 28 years to get through 628 pages was because,\n",
            "[27:56.200 --> 28:01.020]  for 25 years, we read two pages once a month.\n",
            "[28:01.840 --> 28:06.380]  It's so dense at times that you want to take the time to suss it out.\n",
            "[28:06.420 --> 28:08.000]  How it makes you feel.\n",
            "[28:08.760 --> 28:09.960]  What Joyce may or\n",
            "[28:09.960 --> 28:10.720]  may not.\n",
            "[28:10.720 --> 28:13.280]  Be probing or hoiking up.\n",
            "[28:14.480 --> 28:19.400]  Finn Fordman is another enthusiast, a James Joyce specialist at Royal Holloway University\n",
            "[28:19.400 --> 28:20.160]  in London.\n",
            "[28:20.280 --> 28:24.600]  He runs a monthly seminar on Finnegan's Wake, as he's been telling Nuala McGovern.\n",
            "[28:25.580 --> 28:27.240]  I started a reading group in 1993.\n",
            "[28:27.760 --> 28:34.040]  We stopped in 1997 as I got on with my life, but we restarted again in 2007.\n",
            "[28:34.260 --> 28:36.560]  So that's about 16 years.\n",
            "[28:37.080 --> 28:40.700]  And we've done about 80 or 90 pages.\n",
            "[28:40.700 --> 28:40.700]  Wow.\n",
            "[28:40.720 --> 28:44.980]  We tend to do about seven or eight lines each session.\n",
            "[28:45.340 --> 28:47.620]  We're meeting roughly once a month.\n",
            "[28:48.360 --> 28:49.500]  That's how slowly we're going.\n",
            "[28:49.600 --> 28:54.960]  I think the Venice Beach group do maybe a page a session, maybe a page a week or something.\n",
            "[28:55.140 --> 28:56.940]  So they're really roaring through it.\n",
            "[28:57.240 --> 28:59.940]  I think there'll be a lot of my listeners that have never cracked it open.\n",
            "[29:00.360 --> 29:01.000]  What's in it?\n",
            "[29:01.100 --> 29:02.240]  What takes so long?\n",
            "[29:02.540 --> 29:06.380]  Talk us through the fascination and also the frustration.\n",
            "[29:07.040 --> 29:09.140]  It's kind of an encyclopedia.\n",
            "[29:09.720 --> 29:10.700]  And it's encyclopedic.\n",
            "[29:10.700 --> 29:10.700]  Yeah.\n",
            "[29:10.720 --> 29:16.700]  It's an encyclopedia that includes all of language, all of history, all of human relationships.\n",
            "[29:17.660 --> 29:23.640]  And it manages to do that by focusing on just a family with an innkeeper, a pub keeper,\n",
            "[29:23.860 --> 29:27.440]  where there are lots of customers and people gossiping in the pub.\n",
            "[29:27.720 --> 29:35.560]  And out of that very small set of materials, he manages to open it out into the relationships\n",
            "[29:35.560 --> 29:40.160]  between people all around the world in sort of political terms.\n",
            "[29:40.200 --> 29:40.700]  You know, he's got a lot of books.\n",
            "[29:40.720 --> 29:44.640]  You know, he's got a lot of books about this country.\n",
            "[29:44.640 --> 29:44.780]  He's a水 Eastern.\n",
            "[29:44.780 --> 29:44.780]  He's got a lot of culture.\n",
            "[29:44.780 --> 29:49.780]  You know, they're running his business today in Camellia River.\n",
            "[29:49.940 --> 29:51.440]  You also have … It's a place where he's going to battle the�\n",
            "[30:10.060 --> 30:10.700]  Heather Higgins.\n",
            "[30:10.700 --> 30:10.700]  Yeah.\n",
            "[30:10.700 --> 30:14.620]  the clap or somebody maybe falling down the stairs. That particular word, it goes,\n",
            "[30:21.720 --> 30:23.600]  And you can just see it.\n",
            "[30:23.700 --> 30:23.960]  Yes, you can.\n",
            "[30:23.960 --> 30:25.020]  It comes off the page.\n",
            "[30:25.240 --> 30:30.760]  It does. It bangs on every step. I mean, it was sounding to me like Welsh and also like Irish\n",
            "[30:30.760 --> 30:36.420]  to my ear. James Joyce, if I'm correct, it took him 17 years to write. Do you think he was\n",
            "[30:36.420 --> 30:38.360]  expecting people to read it cover to cover?\n",
            "[30:38.540 --> 30:44.840]  He was. He was really hoping for actually a bigger impact than it had. And he was a bit\n",
            "[30:44.840 --> 30:50.700]  disappointed. It came out in May 1939. People had their minds on other things at that moment.\n",
            "[30:50.900 --> 30:55.060]  And he really thought it would be a much better world if people were reading his book than\n",
            "[30:55.060 --> 30:57.520]  thinking about waging war.\n",
            "[30:57.860 --> 31:03.200]  Who is joining you on this? What would we call it? Journey seems too short, I think.\n",
            "[31:03.320 --> 31:03.800]  Odyssey.\n",
            "[31:03.840 --> 31:06.400]  Odyssey is good. Yeah, yeah. That's a nice long name.\n",
            "[31:06.420 --> 31:14.000]  We have academics and non-academics. We have young people and older people. We have people\n",
            "[31:14.000 --> 31:19.300]  from around the world. One of the names of the heroes of this book is Here Comes Everybody.\n",
            "[31:19.980 --> 31:25.700]  And it is a kind of come all ye. Everybody can get involved and everybody will find something\n",
            "[31:25.700 --> 31:27.580]  in this book of interest.\n",
            "[31:27.960 --> 31:31.780]  And I don't know how old you are, Finn, but I mean, do you think you'll finish it in your\n",
            "[31:31.780 --> 31:32.120]  lifetime?\n",
            "[31:33.360 --> 31:36.240]  Well, I think the Californian group has said it.\n",
            "[31:36.420 --> 31:42.040]  It's not a book that you really ever finish. It doesn't really have a beginning or an end.\n",
            "[31:42.280 --> 31:47.540]  It's made up of so many different elements that there's always something more. I've been reading\n",
            "[31:47.540 --> 31:52.680]  this for nearly 40 years, and I don't feel I've finished it.\n",
            "[31:53.180 --> 31:54.140]  Finn Fordman.\n",
            "[31:56.520 --> 32:01.040]  And that's all from us for now. But before we go, I'd like to tell you about a special podcast\n",
            "[32:01.040 --> 32:05.280]  we're planning. At the end of this month, world leaders are meeting at the UN Climate Change\n",
            "[32:05.280 --> 32:06.200]  Conference in Dubai.\n",
            "[32:06.420 --> 32:11.400]  Do you have a question for them? We would like to hear from you. If you do, no question\n",
            "[32:11.400 --> 32:18.700]  on climate change is too big or too small. Email us, as usual, at globalpodcast at bbc.co.uk.\n",
            "[32:19.060 --> 32:20.760]  We do hope to hear from you soon.\n",
            "[32:20.960 --> 32:25.420]  This edition was mixed by Annie Smith and the producer was Judy Frankel. The editor\n",
            "[32:25.420 --> 32:28.820]  is Karen Martin. I'm Nick Miles. And until next time, goodbye.\n"
          ]
        }
      ],
      "source": [
        "!whisper GlobalNewsPodcast.mp3 --model large --word_timestamps True --max_line_width 60 --output_format 'srt'"
      ]
    },
    {
      "cell_type": "markdown",
      "metadata": {
        "id": "nYFmG3TRQFBH"
      },
      "source": [
        "Here is an example of the model running using large-v2 and outputing the result in SRT format."
      ]
    },
    {
      "cell_type": "code",
      "execution_count": 12,
      "metadata": {
        "id": "Lgxau7yTEFM8"
      },
      "outputs": [],
      "source": [
        "#!whisper GlobalNewsPodcast.MP3 --model large --word_timestamps True --max_words_per_line 8 --output_format 'srt'"
      ]
    },
    {
      "cell_type": "code",
      "execution_count": 13,
      "metadata": {
        "colab": {
          "base_uri": "https://localhost:8080/"
        },
        "id": "zsFr-itGYlTH",
        "outputId": "f56183bd-9f2a-4b81-892f-22a4d716fc20"
      },
      "outputs": [
        {
          "output_type": "stream",
          "name": "stdout",
          "text": [
            "100%|██████████████████████████████████████| 2.88G/2.88G [00:24<00:00, 124MiB/s]\n",
            "/usr/local/lib/python3.10/dist-packages/whisper/transcribe.py:126: UserWarning: FP16 is not supported on CPU; using FP32 instead\n",
            "  warnings.warn(\"FP16 is not supported on CPU; using FP32 instead\")\n",
            "Traceback (most recent call last):\n",
            "  File \"/usr/local/lib/python3.10/dist-packages/whisper/audio.py\", line 58, in load_audio\n",
            "    out = run(cmd, capture_output=True, check=True).stdout\n",
            "  File \"/usr/lib/python3.10/subprocess.py\", line 526, in run\n",
            "    raise CalledProcessError(retcode, process.args,\n",
            "subprocess.CalledProcessError: Command '['ffmpeg', '-nostdin', '-threads', '0', '-i', 'GlobalNewsPodcast.MP3', '-f', 's16le', '-ac', '1', '-acodec', 'pcm_s16le', '-ar', '16000', '-']' returned non-zero exit status 1.\n",
            "\n",
            "The above exception was the direct cause of the following exception:\n",
            "\n",
            "Traceback (most recent call last):\n",
            "  File \"/usr/local/lib/python3.10/dist-packages/whisper/transcribe.py\", line 597, in cli\n",
            "    result = transcribe(model, audio_path, temperature=temperature, **args)\n",
            "  File \"/usr/local/lib/python3.10/dist-packages/whisper/transcribe.py\", line 133, in transcribe\n",
            "    mel = log_mel_spectrogram(audio, model.dims.n_mels, padding=N_SAMPLES)\n",
            "  File \"/usr/local/lib/python3.10/dist-packages/whisper/audio.py\", line 140, in log_mel_spectrogram\n",
            "    audio = load_audio(audio)\n",
            "  File \"/usr/local/lib/python3.10/dist-packages/whisper/audio.py\", line 60, in load_audio\n",
            "    raise RuntimeError(f\"Failed to load audio: {e.stderr.decode()}\") from e\n",
            "RuntimeError: Failed to load audio: ffmpeg version 4.4.2-0ubuntu0.22.04.1 Copyright (c) 2000-2021 the FFmpeg developers\n",
            "  built with gcc 11 (Ubuntu 11.2.0-19ubuntu1)\n",
            "  configuration: --prefix=/usr --extra-version=0ubuntu0.22.04.1 --toolchain=hardened --libdir=/usr/lib/x86_64-linux-gnu --incdir=/usr/include/x86_64-linux-gnu --arch=amd64 --enable-gpl --disable-stripping --enable-gnutls --enable-ladspa --enable-libaom --enable-libass --enable-libbluray --enable-libbs2b --enable-libcaca --enable-libcdio --enable-libcodec2 --enable-libdav1d --enable-libflite --enable-libfontconfig --enable-libfreetype --enable-libfribidi --enable-libgme --enable-libgsm --enable-libjack --enable-libmp3lame --enable-libmysofa --enable-libopenjpeg --enable-libopenmpt --enable-libopus --enable-libpulse --enable-librabbitmq --enable-librubberband --enable-libshine --enable-libsnappy --enable-libsoxr --enable-libspeex --enable-libsrt --enable-libssh --enable-libtheora --enable-libtwolame --enable-libvidstab --enable-libvorbis --enable-libvpx --enable-libwebp --enable-libx265 --enable-libxml2 --enable-libxvid --enable-libzimg --enable-libzmq --enable-libzvbi --enable-lv2 --enable-omx --enable-openal --enable-opencl --enable-opengl --enable-sdl2 --enable-pocketsphinx --enable-librsvg --enable-libmfx --enable-libdc1394 --enable-libdrm --enable-libiec61883 --enable-chromaprint --enable-frei0r --enable-libx264 --enable-shared\n",
            "  libavutil      56. 70.100 / 56. 70.100\n",
            "  libavcodec     58.134.100 / 58.134.100\n",
            "  libavformat    58. 76.100 / 58. 76.100\n",
            "  libavdevice    58. 13.100 / 58. 13.100\n",
            "  libavfilter     7.110.100 /  7.110.100\n",
            "  libswscale      5.  9.100 /  5.  9.100\n",
            "  libswresample   3.  9.100 /  3.  9.100\n",
            "  libpostproc    55.  9.100 / 55.  9.100\n",
            "GlobalNewsPodcast.MP3: No such file or directory\n",
            "\n",
            "Skipping GlobalNewsPodcast.MP3 due to RuntimeError: Failed to load audio: ffmpeg version 4.4.2-0ubuntu0.22.04.1 Copyright (c) 2000-2021 the FFmpeg developers\n",
            "  built with gcc 11 (Ubuntu 11.2.0-19ubuntu1)\n",
            "  configuration: --prefix=/usr --extra-version=0ubuntu0.22.04.1 --toolchain=hardened --libdir=/usr/lib/x86_64-linux-gnu --incdir=/usr/include/x86_64-linux-gnu --arch=amd64 --enable-gpl --disable-stripping --enable-gnutls --enable-ladspa --enable-libaom --enable-libass --enable-libbluray --enable-libbs2b --enable-libcaca --enable-libcdio --enable-libcodec2 --enable-libdav1d --enable-libflite --enable-libfontconfig --enable-libfreetype --enable-libfribidi --enable-libgme --enable-libgsm --enable-libjack --enable-libmp3lame --enable-libmysofa --enable-libopenjpeg --enable-libopenmpt --enable-libopus --enable-libpulse --enable-librabbitmq --enable-librubberband --enable-libshine --enable-libsnappy --enable-libsoxr --enable-libspeex --enable-libsrt --enable-libssh --enable-libtheora --enable-libtwolame --enable-libvidstab --enable-libvorbis --enable-libvpx --enable-libwebp --enable-libx265 --enable-libxml2 --enable-libxvid --enable-libzimg --enable-libzmq --enable-libzvbi --enable-lv2 --enable-omx --enable-openal --enable-opencl --enable-opengl --enable-sdl2 --enable-pocketsphinx --enable-librsvg --enable-libmfx --enable-libdc1394 --enable-libdrm --enable-libiec61883 --enable-chromaprint --enable-frei0r --enable-libx264 --enable-shared\n",
            "  libavutil      56. 70.100 / 56. 70.100\n",
            "  libavcodec     58.134.100 / 58.134.100\n",
            "  libavformat    58. 76.100 / 58. 76.100\n",
            "  libavdevice    58. 13.100 / 58. 13.100\n",
            "  libavfilter     7.110.100 /  7.110.100\n",
            "  libswscale      5.  9.100 /  5.  9.100\n",
            "  libswresample   3.  9.100 /  3.  9.100\n",
            "  libpostproc    55.  9.100 / 55.  9.100\n",
            "GlobalNewsPodcast.MP3: No such file or directory\n",
            "\n"
          ]
        }
      ],
      "source": [
        "!whisper GlobalNewsPodcast.MP3 --model large --word_timestamps True --max_words_per_line 8 --output_format 'srt'"
      ]
    }
  ],
  "metadata": {
    "accelerator": "TPU",
    "colab": {
      "machine_shape": "hm",
      "provenance": [],
      "authorship_tag": "ABX9TyM15xYc3IiqfUK69pYLxjty",
      "include_colab_link": true
    },
    "kernelspec": {
      "display_name": "Python 3",
      "name": "python3"
    },
    "language_info": {
      "name": "python"
    }
  },
  "nbformat": 4,
  "nbformat_minor": 0
}